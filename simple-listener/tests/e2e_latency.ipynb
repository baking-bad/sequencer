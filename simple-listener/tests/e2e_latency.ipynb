{
 "cells": [
  {
   "cell_type": "code",
   "execution_count": 9,
   "id": "a5c8f26d",
   "metadata": {},
   "outputs": [],
   "source": [
    "import pandas as pd\n",
    "import cufflinks as cf"
   ]
  },
  {
   "cell_type": "code",
   "execution_count": 10,
   "id": "b49f01eb",
   "metadata": {},
   "outputs": [
    {
     "data": {
      "text/html": [
       "        <script type=\"text/javascript\">\n",
       "        window.PlotlyConfig = {MathJaxConfig: 'local'};\n",
       "        if (window.MathJax) {MathJax.Hub.Config({SVG: {font: \"STIX-Web\"}});}\n",
       "        if (typeof require !== 'undefined') {\n",
       "        require.undef(\"plotly\");\n",
       "        requirejs.config({\n",
       "            paths: {\n",
       "                'plotly': ['https://cdn.plot.ly/plotly-2.6.3.min']\n",
       "            }\n",
       "        });\n",
       "        require(['plotly'], function(Plotly) {\n",
       "            window._Plotly = Plotly;\n",
       "        });\n",
       "        }\n",
       "        </script>\n",
       "        "
      ]
     },
     "metadata": {},
     "output_type": "display_data"
    }
   ],
   "source": [
    "cf.go_offline()"
   ]
  },
  {
   "cell_type": "code",
   "execution_count": 25,
   "id": "5001b13e",
   "metadata": {},
   "outputs": [],
   "source": [
    "df = pd.read_csv('./txs.csv', names=['send_ts', 'recv_ts', 'size', 'round', 'leader_round'])"
   ]
  },
  {
   "cell_type": "code",
   "execution_count": 26,
   "id": "e88d0eba",
   "metadata": {},
   "outputs": [
    {
     "data": {
      "text/html": [
       "<div>\n",
       "<style scoped>\n",
       "    .dataframe tbody tr th:only-of-type {\n",
       "        vertical-align: middle;\n",
       "    }\n",
       "\n",
       "    .dataframe tbody tr th {\n",
       "        vertical-align: top;\n",
       "    }\n",
       "\n",
       "    .dataframe thead th {\n",
       "        text-align: right;\n",
       "    }\n",
       "</style>\n",
       "<table border=\"1\" class=\"dataframe\">\n",
       "  <thead>\n",
       "    <tr style=\"text-align: right;\">\n",
       "      <th></th>\n",
       "      <th>send_ts</th>\n",
       "      <th>recv_ts</th>\n",
       "      <th>size</th>\n",
       "      <th>round</th>\n",
       "      <th>leader_round</th>\n",
       "    </tr>\n",
       "  </thead>\n",
       "  <tbody>\n",
       "    <tr>\n",
       "      <th>0</th>\n",
       "      <td>1705082094615</td>\n",
       "      <td>1705082096603</td>\n",
       "      <td>11978</td>\n",
       "      <td>514917</td>\n",
       "      <td>514920</td>\n",
       "    </tr>\n",
       "    <tr>\n",
       "      <th>1</th>\n",
       "      <td>1705082095268</td>\n",
       "      <td>1705082097617</td>\n",
       "      <td>4819</td>\n",
       "      <td>514919</td>\n",
       "      <td>514922</td>\n",
       "    </tr>\n",
       "    <tr>\n",
       "      <th>2</th>\n",
       "      <td>1705082095797</td>\n",
       "      <td>1705082097617</td>\n",
       "      <td>29457</td>\n",
       "      <td>514919</td>\n",
       "      <td>514922</td>\n",
       "    </tr>\n",
       "    <tr>\n",
       "      <th>3</th>\n",
       "      <td>1705082096392</td>\n",
       "      <td>1705082099285</td>\n",
       "      <td>13347</td>\n",
       "      <td>514923</td>\n",
       "      <td>514926</td>\n",
       "    </tr>\n",
       "    <tr>\n",
       "      <th>4</th>\n",
       "      <td>1705082097017</td>\n",
       "      <td>1705082099285</td>\n",
       "      <td>10755</td>\n",
       "      <td>514923</td>\n",
       "      <td>514926</td>\n",
       "    </tr>\n",
       "  </tbody>\n",
       "</table>\n",
       "</div>"
      ],
      "text/plain": [
       "         send_ts        recv_ts   size   round  leader_round\n",
       "0  1705082094615  1705082096603  11978  514917        514920\n",
       "1  1705082095268  1705082097617   4819  514919        514922\n",
       "2  1705082095797  1705082097617  29457  514919        514922\n",
       "3  1705082096392  1705082099285  13347  514923        514926\n",
       "4  1705082097017  1705082099285  10755  514923        514926"
      ]
     },
     "execution_count": 26,
     "metadata": {},
     "output_type": "execute_result"
    }
   ],
   "source": [
    "df.head()"
   ]
  },
  {
   "cell_type": "code",
   "execution_count": 27,
   "id": "5e34d527",
   "metadata": {},
   "outputs": [],
   "source": [
    "df['trip_time'] = df['recv_ts'] - df['send_ts']"
   ]
  },
  {
   "cell_type": "code",
   "execution_count": 28,
   "id": "b4d73e58",
   "metadata": {},
   "outputs": [
    {
     "data": {
      "text/plain": [
       "count     782.000000\n",
       "mean     2403.187980\n",
       "std       809.669397\n",
       "min      1195.000000\n",
       "25%      1947.500000\n",
       "50%      2231.000000\n",
       "75%      2595.250000\n",
       "max      7372.000000\n",
       "Name: trip_time, dtype: float64"
      ]
     },
     "execution_count": 28,
     "metadata": {},
     "output_type": "execute_result"
    }
   ],
   "source": [
    "df.trip_time.describe()"
   ]
  },
  {
   "cell_type": "code",
   "execution_count": 32,
   "id": "5c9d686c",
   "metadata": {},
   "outputs": [
    {
     "data": {
      "text/html": [
       "<div>\n",
       "<style scoped>\n",
       "    .dataframe tbody tr th:only-of-type {\n",
       "        vertical-align: middle;\n",
       "    }\n",
       "\n",
       "    .dataframe tbody tr th {\n",
       "        vertical-align: top;\n",
       "    }\n",
       "\n",
       "    .dataframe thead th {\n",
       "        text-align: right;\n",
       "    }\n",
       "</style>\n",
       "<table border=\"1\" class=\"dataframe\">\n",
       "  <thead>\n",
       "    <tr style=\"text-align: right;\">\n",
       "      <th></th>\n",
       "      <th>trip_time</th>\n",
       "      <th>size</th>\n",
       "    </tr>\n",
       "  </thead>\n",
       "  <tbody>\n",
       "    <tr>\n",
       "      <th>trip_time</th>\n",
       "      <td>1.00000</td>\n",
       "      <td>0.14222</td>\n",
       "    </tr>\n",
       "    <tr>\n",
       "      <th>size</th>\n",
       "      <td>0.14222</td>\n",
       "      <td>1.00000</td>\n",
       "    </tr>\n",
       "  </tbody>\n",
       "</table>\n",
       "</div>"
      ],
      "text/plain": [
       "           trip_time     size\n",
       "trip_time    1.00000  0.14222\n",
       "size         0.14222  1.00000"
      ]
     },
     "execution_count": 32,
     "metadata": {},
     "output_type": "execute_result"
    }
   ],
   "source": [
    "df[['trip_time', 'size']].corr()"
   ]
  },
  {
   "cell_type": "code",
   "execution_count": 33,
   "id": "80e97f80",
   "metadata": {},
   "outputs": [],
   "source": [
    "df['round_lag'] = df['leader_round'] - df['round']"
   ]
  },
  {
   "cell_type": "code",
   "execution_count": 34,
   "id": "c3bc8635",
   "metadata": {},
   "outputs": [
    {
     "data": {
      "text/html": [
       "<div>\n",
       "<style scoped>\n",
       "    .dataframe tbody tr th:only-of-type {\n",
       "        vertical-align: middle;\n",
       "    }\n",
       "\n",
       "    .dataframe tbody tr th {\n",
       "        vertical-align: top;\n",
       "    }\n",
       "\n",
       "    .dataframe thead th {\n",
       "        text-align: right;\n",
       "    }\n",
       "</style>\n",
       "<table border=\"1\" class=\"dataframe\">\n",
       "  <thead>\n",
       "    <tr style=\"text-align: right;\">\n",
       "      <th></th>\n",
       "      <th>trip_time</th>\n",
       "      <th>round_lag</th>\n",
       "    </tr>\n",
       "  </thead>\n",
       "  <tbody>\n",
       "    <tr>\n",
       "      <th>trip_time</th>\n",
       "      <td>1.000000</td>\n",
       "      <td>-0.128371</td>\n",
       "    </tr>\n",
       "    <tr>\n",
       "      <th>round_lag</th>\n",
       "      <td>-0.128371</td>\n",
       "      <td>1.000000</td>\n",
       "    </tr>\n",
       "  </tbody>\n",
       "</table>\n",
       "</div>"
      ],
      "text/plain": [
       "           trip_time  round_lag\n",
       "trip_time   1.000000  -0.128371\n",
       "round_lag  -0.128371   1.000000"
      ]
     },
     "execution_count": 34,
     "metadata": {},
     "output_type": "execute_result"
    }
   ],
   "source": [
    "df[['trip_time', 'round_lag']].corr()"
   ]
  },
  {
   "cell_type": "code",
   "execution_count": 35,
   "id": "763ea2f6",
   "metadata": {},
   "outputs": [
    {
     "data": {
      "text/html": [
       "<div>\n",
       "<style scoped>\n",
       "    .dataframe tbody tr th:only-of-type {\n",
       "        vertical-align: middle;\n",
       "    }\n",
       "\n",
       "    .dataframe tbody tr th {\n",
       "        vertical-align: top;\n",
       "    }\n",
       "\n",
       "    .dataframe thead th {\n",
       "        text-align: right;\n",
       "    }\n",
       "</style>\n",
       "<table border=\"1\" class=\"dataframe\">\n",
       "  <thead>\n",
       "    <tr style=\"text-align: right;\">\n",
       "      <th></th>\n",
       "      <th>send_ts</th>\n",
       "      <th>recv_ts</th>\n",
       "      <th>size</th>\n",
       "      <th>round</th>\n",
       "      <th>leader_round</th>\n",
       "      <th>trip_time</th>\n",
       "      <th>round_lag</th>\n",
       "    </tr>\n",
       "  </thead>\n",
       "  <tbody>\n",
       "    <tr>\n",
       "      <th>0</th>\n",
       "      <td>1705082094615</td>\n",
       "      <td>1705082096603</td>\n",
       "      <td>11978</td>\n",
       "      <td>514917</td>\n",
       "      <td>514920</td>\n",
       "      <td>1988</td>\n",
       "      <td>3</td>\n",
       "    </tr>\n",
       "    <tr>\n",
       "      <th>1</th>\n",
       "      <td>1705082095268</td>\n",
       "      <td>1705082097617</td>\n",
       "      <td>4819</td>\n",
       "      <td>514919</td>\n",
       "      <td>514922</td>\n",
       "      <td>2349</td>\n",
       "      <td>3</td>\n",
       "    </tr>\n",
       "    <tr>\n",
       "      <th>2</th>\n",
       "      <td>1705082095797</td>\n",
       "      <td>1705082097617</td>\n",
       "      <td>29457</td>\n",
       "      <td>514919</td>\n",
       "      <td>514922</td>\n",
       "      <td>1820</td>\n",
       "      <td>3</td>\n",
       "    </tr>\n",
       "    <tr>\n",
       "      <th>3</th>\n",
       "      <td>1705082096392</td>\n",
       "      <td>1705082099285</td>\n",
       "      <td>13347</td>\n",
       "      <td>514923</td>\n",
       "      <td>514926</td>\n",
       "      <td>2893</td>\n",
       "      <td>3</td>\n",
       "    </tr>\n",
       "    <tr>\n",
       "      <th>4</th>\n",
       "      <td>1705082097017</td>\n",
       "      <td>1705082099285</td>\n",
       "      <td>10755</td>\n",
       "      <td>514923</td>\n",
       "      <td>514926</td>\n",
       "      <td>2268</td>\n",
       "      <td>3</td>\n",
       "    </tr>\n",
       "    <tr>\n",
       "      <th>...</th>\n",
       "      <td>...</td>\n",
       "      <td>...</td>\n",
       "      <td>...</td>\n",
       "      <td>...</td>\n",
       "      <td>...</td>\n",
       "      <td>...</td>\n",
       "      <td>...</td>\n",
       "    </tr>\n",
       "    <tr>\n",
       "      <th>777</th>\n",
       "      <td>1705082568577</td>\n",
       "      <td>1705082575100</td>\n",
       "      <td>23864</td>\n",
       "      <td>515968</td>\n",
       "      <td>515970</td>\n",
       "      <td>6523</td>\n",
       "      <td>2</td>\n",
       "    </tr>\n",
       "    <tr>\n",
       "      <th>778</th>\n",
       "      <td>1705082569263</td>\n",
       "      <td>1705082575100</td>\n",
       "      <td>24451</td>\n",
       "      <td>515969</td>\n",
       "      <td>515970</td>\n",
       "      <td>5837</td>\n",
       "      <td>1</td>\n",
       "    </tr>\n",
       "    <tr>\n",
       "      <th>779</th>\n",
       "      <td>1705082569909</td>\n",
       "      <td>1705082575100</td>\n",
       "      <td>20123</td>\n",
       "      <td>515969</td>\n",
       "      <td>515970</td>\n",
       "      <td>5191</td>\n",
       "      <td>1</td>\n",
       "    </tr>\n",
       "    <tr>\n",
       "      <th>780</th>\n",
       "      <td>1705082570512</td>\n",
       "      <td>1705082575100</td>\n",
       "      <td>5559</td>\n",
       "      <td>515969</td>\n",
       "      <td>515970</td>\n",
       "      <td>4588</td>\n",
       "      <td>1</td>\n",
       "    </tr>\n",
       "    <tr>\n",
       "      <th>781</th>\n",
       "      <td>1705082571022</td>\n",
       "      <td>1705082575100</td>\n",
       "      <td>11860</td>\n",
       "      <td>515970</td>\n",
       "      <td>515970</td>\n",
       "      <td>4078</td>\n",
       "      <td>0</td>\n",
       "    </tr>\n",
       "  </tbody>\n",
       "</table>\n",
       "<p>782 rows × 7 columns</p>\n",
       "</div>"
      ],
      "text/plain": [
       "           send_ts        recv_ts   size   round  leader_round  trip_time  \\\n",
       "0    1705082094615  1705082096603  11978  514917        514920       1988   \n",
       "1    1705082095268  1705082097617   4819  514919        514922       2349   \n",
       "2    1705082095797  1705082097617  29457  514919        514922       1820   \n",
       "3    1705082096392  1705082099285  13347  514923        514926       2893   \n",
       "4    1705082097017  1705082099285  10755  514923        514926       2268   \n",
       "..             ...            ...    ...     ...           ...        ...   \n",
       "777  1705082568577  1705082575100  23864  515968        515970       6523   \n",
       "778  1705082569263  1705082575100  24451  515969        515970       5837   \n",
       "779  1705082569909  1705082575100  20123  515969        515970       5191   \n",
       "780  1705082570512  1705082575100   5559  515969        515970       4588   \n",
       "781  1705082571022  1705082575100  11860  515970        515970       4078   \n",
       "\n",
       "     round_lag  \n",
       "0            3  \n",
       "1            3  \n",
       "2            3  \n",
       "3            3  \n",
       "4            3  \n",
       "..         ...  \n",
       "777          2  \n",
       "778          1  \n",
       "779          1  \n",
       "780          1  \n",
       "781          0  \n",
       "\n",
       "[782 rows x 7 columns]"
      ]
     },
     "execution_count": 35,
     "metadata": {},
     "output_type": "execute_result"
    }
   ],
   "source": [
    "df"
   ]
  },
  {
   "cell_type": "code",
   "execution_count": null,
   "id": "4a48edc6",
   "metadata": {},
   "outputs": [],
   "source": []
  }
 ],
 "metadata": {
  "kernelspec": {
   "display_name": "Python 3 (ipykernel)",
   "language": "python",
   "name": "python3"
  },
  "language_info": {
   "codemirror_mode": {
    "name": "ipython",
    "version": 3
   },
   "file_extension": ".py",
   "mimetype": "text/x-python",
   "name": "python",
   "nbconvert_exporter": "python",
   "pygments_lexer": "ipython3",
   "version": "3.9.6"
  }
 },
 "nbformat": 4,
 "nbformat_minor": 5
}
