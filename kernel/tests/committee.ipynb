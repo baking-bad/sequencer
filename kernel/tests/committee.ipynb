{
 "cells": [
  {
   "cell_type": "code",
   "execution_count": 2,
   "id": "ad7e0f3a",
   "metadata": {},
   "outputs": [],
   "source": [
    "from pytezos import pytezos, ContractInterface\n",
    "from pytezos.operation.result import OperationResult"
   ]
  },
  {
   "cell_type": "code",
   "execution_count": 3,
   "id": "e2fbd32f",
   "metadata": {},
   "outputs": [],
   "source": [
    "pytezos = pytezos.using('nairobinet')"
   ]
  },
  {
   "cell_type": "code",
   "execution_count": 6,
   "id": "0d8de4c2",
   "metadata": {},
   "outputs": [],
   "source": [
    "ci = ContractInterface.from_file('governance.tz')"
   ]
  },
  {
   "cell_type": "code",
   "execution_count": 7,
   "id": "46df1447",
   "metadata": {},
   "outputs": [],
   "source": [
    "tx = pytezos.origination(ci.script()).send()"
   ]
  },
  {
   "cell_type": "code",
   "execution_count": 14,
   "id": "26dff195",
   "metadata": {},
   "outputs": [],
   "source": [
    "opg = pytezos.shell.blocks[-50:].find_operation(tx.hash())"
   ]
  },
  {
   "cell_type": "code",
   "execution_count": 19,
   "id": "ca202d66",
   "metadata": {},
   "outputs": [],
   "source": [
    "address = OperationResult.from_operation_group(opg)[0].originated_contracts[0]"
   ]
  },
  {
   "cell_type": "code",
   "execution_count": 4,
   "id": "a2dfb9bc",
   "metadata": {},
   "outputs": [],
   "source": [
    "ADDRESS = 'KT1S2uEmcLsTP9tMr5KQkuHFARTyTijL7UEV'"
   ]
  },
  {
   "cell_type": "code",
   "execution_count": 5,
   "id": "a5a17426",
   "metadata": {},
   "outputs": [],
   "source": [
    "dao = pytezos.contract(ADDRESS)"
   ]
  },
  {
   "cell_type": "code",
   "execution_count": 6,
   "id": "81dedfef",
   "metadata": {},
   "outputs": [
    {
     "data": {
      "text/plain": [
       "<pytezos.contract.entrypoint.ContractEntrypoint object at 0x7f6d54baf970>\n",
       "\n",
       "Properties\n",
       ".key\t\ttz1grSQDByRpnVs7sPtaprNZRp531ZKz6Jmm\n",
       ".shell\t\t['https://rpc.tzkt.io/nairobinet']\n",
       ".address\tKT1S2uEmcLsTP9tMr5KQkuHFARTyTijL7UEV\n",
       ".block_id\thead\n",
       ".entrypoint\tdefault\n",
       "\n",
       "Builtin\n",
       "(*args, **kwargs)\t# build transaction parameters (see typedef)\n",
       "\n",
       "Typedef\n",
       "$default:\n",
       "\t( address, bytes )\n",
       "\n",
       "$address:\n",
       "\tstr  /* Base58 encoded `tz` or `KT` address */\n",
       "\n",
       "$bytes:\n",
       "\tstr  /* Hex string */ ||\n",
       "\tbytes  /* Python byte string */\n",
       "\n",
       "\n",
       "Helpers\n",
       ".decode()\n",
       ".encode()"
      ]
     },
     "execution_count": 6,
     "metadata": {},
     "output_type": "execute_result"
    }
   ],
   "source": [
    "dao.default"
   ]
  },
  {
   "cell_type": "code",
   "execution_count": 32,
   "id": "abcd7d4d",
   "metadata": {},
   "outputs": [],
   "source": [
    "ROLLUP_ADDRESS = 'sr1KX68s61pKtbwwmnucAEeE1YjFdNCRLc2p' # PASTE YOUR ROLLUP ADDRESS\n",
    "DSN_CONFIG = '000000000000000007608217efb0d19cb9960f856319d25c3d57c6829661533f489c7db7e33d15a0195012085a2f3874b91e43ed910fb2975d6918db3d63193bf39af40c69ce5759cad9794fa64b55f7c9d092498aaf4f81ba7a4b865e8f51cd69a69669c8cd8e9304ca608f613bf3261ebe81983a54cbbb75a12faf3cbe41f68a7b6586ad5000d4a2228cb867528cc15fed6573af42359a0836bb08aac00debbf0d4074e82301a1cf914e78fdc13d80852b39d88b24c4be9a77fbd73b0f8bcff5e44e64896691e33bc1af60951406b2856fdabbe0e6bdc72c5b7aac777b7d24fc9022b5bc0078beba5b5d8a4e7b54c716d948db02ed6861b88d4e201970415c6e3a5512da895c2ec93fd686ec9f3bf190fe9bff5c8739446b4036d7ec8bcf3ae9937a1e954ab8d7fbea05d960a78869789da72a1e2b7b8b4703bd88b32479f0511533cc9172ba5c297bd45b26bc6239820fafca91504095153aeb8ffa08bf625e77703ab559894076789f224893593e7889cbb5db03d80180aeb7d2e76d540e6255f4a6f03d5ba14aa244354760ac192182731d3655685699102338ce29d07a988c61bd1c64ef18b07ab69254670abfeaf8f6d114cc2994b3cb7a43987110519d019a2fc6a5ad4f6c0afbb4aafaeb46a6cf4dbae2d548aa23036065fa1d2871cd8e7a887756801cc94cf7eb0f5060b6c9baa74c09e784b9570f63652e42b924fb76edfc0d796dc4326b200ebf3bea90c373a68fb73b761bf37a6b8bbc5829016226c8a21767eeb7b625b0390933da52b0792c0209bd736a15625168ea7b75af730ae1cd452d6b86dc0c2529b1384860b8f63f5c29dace07ca215ac250ea4afc14197c5230706b4711b6500b7bc4be11462897d80aa1e67979c5a1a196031edf06e282a03acd4dc09eebb6d4fe07d1950b4566d2fa5ab7cfb79882443068871334d2cd2a664bd5bda6c65bdc6eee01a0'"
   ]
  },
  {
   "cell_type": "code",
   "execution_count": 33,
   "id": "a67718a4",
   "metadata": {},
   "outputs": [
    {
     "data": {
      "text/plain": [
       "<pytezos.operation.group.OperationGroup object at 0x7f6d6c1a2850>\n",
       "\n",
       "Properties\n",
       ".key\t\ttz1grSQDByRpnVs7sPtaprNZRp531ZKz6Jmm\n",
       ".shell\t\t['https://rpc.tzkt.io/nairobinet']\n",
       ".block_id\thead\n",
       "\n",
       "Payload\n",
       "{'branch': 'BMB7EUj12DK7e8HxPpP98n9kxBQMmGmaS67scJ4fUayd2XSdBcb',\n",
       " 'contents': [{'amount': '0',\n",
       "               'counter': '1293',\n",
       "               'destination': 'KT1S2uEmcLsTP9tMr5KQkuHFARTyTijL7UEV',\n",
       "               'fee': '1108',\n",
       "               'gas_limit': '1085',\n",
       "               'kind': 'transaction',\n",
       "               'parameters': {'entrypoint': 'default',\n",
       "                              'value': {'args': [{'string': 'sr1KX68s61pKtbwwmnucAEeE1YjFdNCRLc2p'},\n",
       "                                                 {'bytes': '000000000000000007608217efb0d19cb9960f856319d25c3d57c6829661533f489c7db7e33d15a0195012085a2f3874b91e43ed910fb2975d6918db3d63193bf39af40c69ce5759cad9794fa64b55f7c9d092498aaf4f81ba7a4b865e8f51cd69a69669c8cd8e9304ca608f613bf3261ebe81983a54cbbb75a12faf3cbe41f68a7b6586ad5000d4a2228cb867528cc15fed6573af42359a0836bb08aac00debbf0d4074e82301a1cf914e78fdc13d80852b39d88b24c4be9a77fbd73b0f8bcff5e44e64896691e33bc1af60951406b2856fdabbe0e6bdc72c5b7aac777b7d24fc9022b5bc0078beba5b5d8a4e7b54c716d948db02ed6861b88d4e201970415c6e3a5512da895c2ec93fd686ec9f3bf190fe9bff5c8739446b4036d7ec8bcf3ae9937a1e954ab8d7fbea05d960a78869789da72a1e2b7b8b4703bd88b32479f0511533cc9172ba5c297bd45b26bc6239820fafca91504095153aeb8ffa08bf625e77703ab559894076789f224893593e7889cbb5db03d80180aeb7d2e76d540e6255f4a6f03d5ba14aa244354760ac192182731d3655685699102338ce29d07a988c61bd1c64ef18b07ab69254670abfeaf8f6d114cc2994b3cb7a43987110519d019a2fc6a5ad4f6c0afbb4aafaeb46a6cf4dbae2d548aa23036065fa1d2871cd8e7a887756801cc94cf7eb0f5060b6c9baa74c09e784b9570f63652e42b924fb76edfc0d796dc4326b200ebf3bea90c373a68fb73b761bf37a6b8bbc5829016226c8a21767eeb7b625b0390933da52b0792c0209bd736a15625168ea7b75af730ae1cd452d6b86dc0c2529b1384860b8f63f5c29dace07ca215ac250ea4afc14197c5230706b4711b6500b7bc4be11462897d80aa1e67979c5a1a196031edf06e282a03acd4dc09eebb6d4fe07d1950b4566d2fa5ab7cfb79882443068871334d2cd2a664bd5bda6c65bdc6eee01a0'}],\n",
       "                                        'prim': 'Pair'}},\n",
       "               'source': 'tz1grSQDByRpnVs7sPtaprNZRp531ZKz6Jmm',\n",
       "               'storage_limit': '100'}],\n",
       " 'protocol': 'PtNairobiyssHuh87hEhfVBGCVrK3WnS8Z2FT4ymB5tAa4r1nQf',\n",
       " 'signature': 'sigfocdLJrKhXPRKshyr7RKjokR2N83c8di7kpsVA4mpVZjwSHEzYyD6JsAbtQvVvHGmzteroix4yhwtUrBgGch36iHsRLZz'}\n",
       "\n",
       "Hash\n",
       "onezC2CYE1AT7en3prLVCZy4nHuhiw9paX8HBf4kh2ar62ayXpg\n",
       ".activate_account()\n",
       ".autofill()\n",
       ".ballot()\n",
       ".binary_payload()\n",
       ".delegation()\n",
       ".double_baking_evidence()\n",
       ".double_endorsement_evidence()\n",
       ".endorsement()\n",
       ".endorsement_with_slot()\n",
       ".failing_noop()\n",
       ".fill()\n",
       ".forge()\n",
       ".hash()\n",
       ".inject()\n",
       ".json_payload()\n",
       ".message()\n",
       ".operation()\n",
       ".origination()\n",
       ".preapply()\n",
       ".proposals()\n",
       ".register_global_constant()\n",
       ".result()\n",
       ".reveal()\n",
       ".run()\n",
       ".run_operation()\n",
       ".seed_nonce_revelation()\n",
       ".send()\n",
       ".send_async()\n",
       ".sign()\n",
       ".smart_rollup_add_messages()\n",
       ".smart_rollup_execute_outbox_message()\n",
       ".transaction()\n",
       ".transfer_ticket()"
      ]
     },
     "execution_count": 33,
     "metadata": {},
     "output_type": "execute_result"
    }
   ],
   "source": [
    "dao.default((ROLLUP_ADDRESS, DSN_CONFIG)).send()"
   ]
  },
  {
   "cell_type": "code",
   "execution_count": null,
   "id": "b37bfed5",
   "metadata": {},
   "outputs": [],
   "source": []
  }
 ],
 "metadata": {
  "kernelspec": {
   "display_name": "Python 3 (ipykernel)",
   "language": "python",
   "name": "python3"
  },
  "language_info": {
   "codemirror_mode": {
    "name": "ipython",
    "version": 3
   },
   "file_extension": ".py",
   "mimetype": "text/x-python",
   "name": "python",
   "nbconvert_exporter": "python",
   "pygments_lexer": "ipython3",
   "version": "3.9.6"
  }
 },
 "nbformat": 4,
 "nbformat_minor": 5
}
